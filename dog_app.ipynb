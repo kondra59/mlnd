{
 "cells": [
  {
   "cell_type": "markdown",
   "metadata": {},
   "source": [
    "# Artificial Intelligence Nanodegree\n",
    "\n",
    "## Convolutional Neural Networks\n",
    "\n",
    "## Project: Write an Algorithm for a Dog Identification App \n",
    "\n",
    "---\n",
    "\n",
    "In this notebook, some template code has already been provided for you, and you will need to implement additional functionality to successfully complete this project. You will not need to modify the included code beyond what is requested. Sections that begin with **'(IMPLEMENTATION)'** in the header indicate that the following block of code will require additional functionality which you must provide. Instructions will be provided for each section, and the specifics of the implementation are marked in the code block with a 'TODO' statement. Please be sure to read the instructions carefully! \n",
    "\n",
    "> **Note**: Once you have completed all of the code implementations, you need to finalize your work by exporting the iPython Notebook as an HTML document. Before exporting the notebook to html, all of the code cells need to have been run so that reviewers can see the final implementation and output. You can then export the notebook by using the menu above and navigating to  \\n\",\n",
    "    \"**File -> Download as -> HTML (.html)**. Include the finished document along with this notebook as your submission.\n",
    "\n",
    "In addition to implementing code, there will be questions that you must answer which relate to the project and your implementation. Each section where you will answer a question is preceded by a **'Question X'** header. Carefully read each question and provide thorough answers in the following text boxes that begin with **'Answer:'**. Your project submission will be evaluated based on your answers to each of the questions and the implementation you provide.\n",
    "\n",
    ">**Note:** Code and Markdown cells can be executed using the **Shift + Enter** keyboard shortcut.  Markdown cells can be edited by double-clicking the cell to enter edit mode.\n",
    "\n",
    "The rubric contains _optional_ \"Stand Out Suggestions\" for enhancing the project beyond the minimum requirements. If you decide to pursue the \"Stand Out Suggestions\", you should include the code in this IPython notebook.\n",
    "\n",
    "\n",
    "\n",
    "---\n",
    "### Why We're Here \n",
    "\n",
    "In this notebook, you will make the first steps towards developing an algorithm that could be used as part of a mobile or web app.  At the end of this project, your code will accept any user-supplied image as input.  If a dog is detected in the image, it will provide an estimate of the dog's breed.  If a human is detected, it will provide an estimate of the dog breed that is most resembling.  The image below displays potential sample output of your finished project (... but we expect that each student's algorithm will behave differently!). \n",
    "\n",
    "![Sample Dog Output](images/sample_dog_output.png)\n",
    "\n",
    "In this real-world setting, you will need to piece together a series of models to perform different tasks; for instance, the algorithm that detects humans in an image will be different from the CNN that infers dog breed.  There are many points of possible failure, and no perfect algorithm exists.  Your imperfect solution will nonetheless create a fun user experience!\n",
    "\n",
    "### The Road Ahead\n",
    "\n",
    "We break the notebook into separate steps.  Feel free to use the links below to navigate the notebook.\n",
    "\n",
    "* [Step 0](#step0): Import Datasets\n",
    "* [Step 1](#step1): Detect Humans\n",
    "* [Step 2](#step2): Detect Dogs\n",
    "* [Step 3](#step3): Create a CNN to Classify Dog Breeds (from Scratch)\n",
    "* [Step 4](#step4): Use a CNN to Classify Dog Breeds (using Transfer Learning)\n",
    "* [Step 5](#step5): Create a CNN to Classify Dog Breeds (using Transfer Learning)\n",
    "* [Step 6](#step6): Write your Algorithm\n",
    "* [Step 7](#step7): Test Your Algorithm\n",
    "\n",
    "---\n",
    "<a id='step0'></a>\n",
    "## Step 0: Import Datasets\n",
    "\n",
    "### Import Dog Dataset\n",
    "\n",
    "In the code cell below, we import a dataset of dog images.  We populate a few variables through the use of the `load_files` function from the scikit-learn library:\n",
    "- `train_files`, `valid_files`, `test_files` - numpy arrays containing file paths to images\n",
    "- `train_targets`, `valid_targets`, `test_targets` - numpy arrays containing onehot-encoded classification labels \n",
    "- `dog_names` - list of string-valued dog breed names for translating labels"
   ]
  },
  {
   "cell_type": "code",
   "execution_count": 1,
   "metadata": {},
   "outputs": [
    {
     "name": "stderr",
     "output_type": "stream",
     "text": [
      "/usr/lib/python3.4/importlib/_bootstrap.py:321: FutureWarning: Conversion of the second argument of issubdtype from `float` to `np.floating` is deprecated. In future, it will be treated as `np.float64 == np.dtype(float).type`.\n",
      "  return f(*args, **kwds)\n",
      "Using TensorFlow backend.\n"
     ]
    },
    {
     "name": "stdout",
     "output_type": "stream",
     "text": [
      "There are 133 total dog categories.\n",
      "There are 8351 total dog images.\n",
      "\n",
      "There are 6680 training dog images.\n",
      "There are 835 validation dog images.\n",
      "There are 836 test dog images.\n"
     ]
    }
   ],
   "source": [
    "from sklearn.datasets import load_files       \n",
    "from keras.utils import np_utils\n",
    "import numpy as np\n",
    "from glob import glob\n",
    "\n",
    "# define function to load train, test, and validation datasets\n",
    "def load_dataset(path):\n",
    "    data = load_files(path)\n",
    "    dog_files = np.array(data['filenames'])\n",
    "    dog_targets = np_utils.to_categorical(np.array(data['target']), 133)\n",
    "    return dog_files, dog_targets\n",
    "#load_dataset()\n",
    "# load train, test, and validation datasets\n",
    "train_files, train_targets = load_dataset('/root/Downloads/dog-project-master/images/dogImages/train')\n",
    "valid_files, valid_targets = load_dataset('/root/Downloads/dog-project-master/images/dogImages/valid')\n",
    "test_files, test_targets = load_dataset('/root/Downloads/dog-project-master/images/dogImages/test')\n",
    "\n",
    "# load list of dog names\n",
    "dog_names = [item[20:-1] for item in sorted(glob(\"/root/Downloads/dog-project-master/images/dogImages/train/*/\"))]\n",
    "\n",
    "# print statistics about the dataset\n",
    "print('There are %d total dog categories.' % len(dog_names))\n",
    "print('There are %s total dog images.\\n' % len(np.hstack([train_files, valid_files, test_files])))\n",
    "print('There are %d training dog images.' % len(train_files))\n",
    "print('There are %d validation dog images.' % len(valid_files))\n",
    "print('There are %d test dog images.'% len(test_files))"
   ]
  },
  {
   "cell_type": "markdown",
   "metadata": {},
   "source": [
    "### Import Human Dataset\n",
    "\n",
    "In the code cell below, we import a dataset of human images, where the file paths are stored in the numpy array `human_files`."
   ]
  },
  {
   "cell_type": "code",
   "execution_count": 2,
   "metadata": {},
   "outputs": [
    {
     "name": "stdout",
     "output_type": "stream",
     "text": [
      "There are 13233 total human images.\n"
     ]
    }
   ],
   "source": [
    "import random\n",
    "random.seed(8675309)\n",
    "\n",
    "# load filenames in shuffled human dataset\n",
    "human_files = np.array(glob(\"lfw/*/*\"))\n",
    "human_files = np.array(glob('/root/Downloads/dog-project-master/images/lfw/*/*'))\n",
    "random.shuffle(human_files)\n",
    "\n",
    "# print statistics about the dataset\n",
    "print('There are %d total human images.' % len(human_files))"
   ]
  },
  {
   "cell_type": "markdown",
   "metadata": {},
   "source": [
    "---\n",
    "<a id='step1'></a>\n",
    "## Step 1: Detect Humans\n",
    "\n",
    "We use OpenCV's implementation of [Haar feature-based cascade classifiers](http://docs.opencv.org/trunk/d7/d8b/tutorial_py_face_detection.html) to detect human faces in images.  OpenCV provides many pre-trained face detectors, stored as XML files on [github](https://github.com/opencv/opencv/tree/master/data/haarcascades).  We have downloaded one of these detectors and stored it in the `haarcascades` directory.\n",
    "\n",
    "In the next code cell, we demonstrate how to use this detector to find human faces in a sample image."
   ]
  },
  {
   "cell_type": "code",
   "execution_count": 3,
   "metadata": {},
   "outputs": [
    {
     "name": "stdout",
     "output_type": "stream",
     "text": [
      "Number of faces detected: 1\n"
     ]
    },
    {
     "data": {
      "image/png": "[encoded data removed]",
      "text/plain": [
       "<matplotlib.figure.Figure at 0x7fdddc765d68>"
      ]
     },
     "metadata": {},
     "output_type": "display_data"
    }
   ],
   "source": [
    "import cv2                \n",
    "import matplotlib.pyplot as plt                        \n",
    "%matplotlib inline                               \n",
    "\n",
    "# extract pre-trained face detector\n",
    "face_cascade = cv2.CascadeClassifier('haarcascades/haarcascade_frontalface_alt.xml')\n",
    "\n",
    "# load color (BGR) image\n",
    "img = cv2.imread(human_files[3])\n",
    "# convert BGR image to grayscale\n",
    "gray = cv2.cvtColor(img, cv2.COLOR_BGR2GRAY)\n",
    "\n",
    "# find faces in image\n",
    "faces = face_cascade.detectMultiScale(gray)\n",
    "\n",
    "# print number of faces detected in the image\n",
    "print('Number of faces detected:', len(faces))\n",
    "\n",
    "# get bounding box for each detected face\n",
    "for (x,y,w,h) in faces:\n",
    "    # add bounding box to color image\n",
    "    cv2.rectangle(img,(x,y),(x+w,y+h),(255,0,0),2)\n",
    "    \n",
    "# convert BGR image to RGB for plotting\n",
    "cv_rgb = cv2.cvtColor(img, cv2.COLOR_BGR2RGB)\n",
    "\n",
    "# display the image, along with bounding box\n",
    "plt.imshow(cv_rgb)\n",
    "plt.show()"
   ]
  },
  {
   "cell_type": "markdown",
   "metadata": {},
   "source": [
    "Before using any of the face detectors, it is standard procedure to convert the images to grayscale.  The `detectMultiScale` function executes the classifier stored in `face_cascade` and takes the grayscale image as a parameter.  \n",
    "\n",
    "In the above code, `faces` is a numpy array of detected faces, where each row corresponds to a detected face.  Each detected face is a 1D array with four entries that specifies the bounding box of the detected face.  The first two entries in the array (extracted in the above code as `x` and `y`) specify the horizontal and vertical positions of the top left corner of the bounding box.  The last two entries in the array (extracted here as `w` and `h`) specify the width and height of the box.\n",
    "\n",
    "### Write a Human Face Detector\n",
    "\n",
    "We can use this procedure to write a function that returns `True` if a human face is detected in an image and `False` otherwise.  This function, aptly named `face_detector`, takes a string-valued file path to an image as input and appears in the code block below."
   ]
  },
  {
   "cell_type": "code",
   "execution_count": 4,
   "metadata": {},
   "outputs": [],
   "source": [
    "# returns \"True\" if face is detected in image stored at img_path\n",
    "def face_detector(img_path):\n",
    "    img = cv2.imread(img_path)\n",
    "    gray = cv2.cvtColor(img, cv2.COLOR_BGR2GRAY)\n",
    "    faces = face_cascade.detectMultiScale(gray)\n",
    "    return len(faces) > 0"
   ]
  },
  {
   "cell_type": "markdown",
   "metadata": {},
   "source": [
    "### (IMPLEMENTATION) Assess the Human Face Detector\n",
    "\n",
    "__Question 1:__ Use the code cell below to test the performance of the `face_detector` function.  \n",
    "- What percentage of the first 100 images in `human_files` have a detected human face?  \n",
    "- What percentage of the first 100 images in `dog_files` have a detected human face? \n",
    "\n",
    "Ideally, we would like 100% of human images with a detected face and 0% of dog images with a detected face.  You will see that our algorithm falls short of this goal, but still gives acceptable performance.  We extract the file paths for the first 100 images from each of the datasets and store them in the numpy arrays `human_files_short` and `dog_files_short`.\n",
    "\n",
    "__Answer:__ 99% and 12%"
   ]
  },
  {
   "cell_type": "code",
   "execution_count": 7,
   "metadata": {},
   "outputs": [
    {
     "name": "stdout",
     "output_type": "stream",
     "text": [
      "99\n",
      "12\n"
     ]
    }
   ],
   "source": [
    "human_files_short = human_files[:100]\n",
    "dog_files_short = train_files[:100]\n",
    "res=[]\n",
    "# Do NOT modify the code above this line.\n",
    "for h in human_files_short:\n",
    "    if face_detector(h) == True : res.append(h)\n",
    "    #print(face_detector(h))\n",
    "print(len(res))\n",
    "## TODO: Test the performance of the face_detector algorithm \n",
    "## on the images in human_files_short and dog_files_short.\n",
    "res=[]\n",
    "for d in dog_files_short:\n",
    "    if face_detector(d) == True : res.append(d)\n",
    "    #print(face_detector(h))\n",
    "print(len(res))"
   ]
  },
  {
   "cell_type": "markdown",
   "metadata": {},
   "source": [
    "__Question 2:__ This algorithmic choice necessitates that we communicate to the user that we accept human images only when they provide a clear view of a face (otherwise, we risk having unneccessarily frustrated users!). In your opinion, is this a reasonable expectation to pose on the user? If not, can you think of a way to detect humans in images that does not necessitate an image with a clearly presented face?\n",
    "\n",
    "__Answer:__\n",
    "\n",
    "We suggest the face detector from OpenCV as a potential way to detect human images in your algorithm, but you are free to explore other approaches, especially approaches that make use of deep learning :).  Please use the code cell below to design and test your own face detection algorithm.  If you decide to pursue this _optional_ task, report performance on each of the datasets."
   ]
  },
  {
   "cell_type": "code",
   "execution_count": null,
   "metadata": {
    "collapsed": true
   },
   "outputs": [],
   "source": [
    "## (Optional) TODO: Report the performance of another  \n",
    "## face detection algorithm on the LFW dataset\n",
    "### Feel free to use as many code cells as needed."
   ]
  },
  {
   "cell_type": "markdown",
   "metadata": {},
   "source": [
    "---\n",
    "<a id='step2'></a>\n",
    "## Step 2: Detect Dogs\n",
    "\n",
    "In this section, we use a pre-trained [ResNet-50](http://ethereon.github.io/netscope/#/gist/db945b393d40bfa26006) model to detect dogs in images.  Our first line of code downloads the ResNet-50 model, along with weights that have been trained on [ImageNet](http://www.image-net.org/), a very large, very popular dataset used for image classification and other vision tasks.  ImageNet contains over 10 million URLs, each linking to an image containing an object from one of [1000 categories](https://gist.github.com/yrevar/942d3a0ac09ec9e5eb3a).  Given an image, this pre-trained ResNet-50 model returns a prediction (derived from the available categories in ImageNet) for the object that is contained in the image."
   ]
  },
  {
   "cell_type": "code",
   "execution_count": 8,
   "metadata": {},
   "outputs": [],
   "source": [
    "from keras.applications.resnet50 import ResNet50\n",
    "\n",
    "# define ResNet50 model\n",
    "ResNet50_model = ResNet50(weights='imagenet')"
   ]
  },
  {
   "cell_type": "markdown",
   "metadata": {},
   "source": [
    "### Pre-process the Data\n",
    "\n",
    "When using TensorFlow as backend, Keras CNNs require a 4D array (which we'll also refer to as a 4D tensor) as input, with shape\n",
    "\n",
    "$$\n",
    "(\\text{nb_samples}, \\text{rows}, \\text{columns}, \\text{channels}),\n",
    "$$\n",
    "\n",
    "where `nb_samples` corresponds to the total number of images (or samples), and `rows`, `columns`, and `channels` correspond to the number of rows, columns, and channels for each image, respectively.  \n",
    "\n",
    "The `path_to_tensor` function below takes a string-valued file path to a color image as input and returns a 4D tensor suitable for supplying to a Keras CNN.  The function first loads the image and resizes it to a square image that is $224 \\times 224$ pixels.  Next, the image is converted to an array, which is then resized to a 4D tensor.  In this case, since we are working with color images, each image has three channels.  Likewise, since we are processing a single image (or sample), the returned tensor will always have shape\n",
    "\n",
    "$$\n",
    "(1, 224, 224, 3).\n",
    "$$\n",
    "\n",
    "The `paths_to_tensor` function takes a numpy array of string-valued image paths as input and returns a 4D tensor with shape \n",
    "\n",
    "$$\n",
    "(\\text{nb_samples}, 224, 224, 3).\n",
    "$$\n",
    "\n",
    "Here, `nb_samples` is the number of samples, or number of images, in the supplied array of image paths.  It is best to think of `nb_samples` as the number of 3D tensors (where each 3D tensor corresponds to a different image) in your dataset!"
   ]
  },
  {
   "cell_type": "code",
   "execution_count": 6,
   "metadata": {},
   "outputs": [],
   "source": [
    "from keras.preprocessing import image                  \n",
    "from tqdm import tqdm\n",
    "\n",
    "def path_to_tensor(img_path):\n",
    "    # loads RGB image as PIL.Image.Image type\n",
    "    img = image.load_img(img_path, target_size=(224, 224))\n",
    "    # convert PIL.Image.Image type to 3D tensor with shape (224, 224, 3)\n",
    "    x = image.img_to_array(img)\n",
    "    # convert 3D tensor to 4D tensor with shape (1, 224, 224, 3) and return 4D tensor\n",
    "    return np.expand_dims(x, axis=0)\n",
    "\n",
    "def paths_to_tensor(img_paths):\n",
    "    list_of_tensors = [path_to_tensor(img_path) for img_path in tqdm(img_paths)]\n",
    "    return np.vstack(list_of_tensors)"
   ]
  },
  {
   "cell_type": "markdown",
   "metadata": {},
   "source": [
    "### Making Predictions with ResNet-50\n",
    "\n",
    "Getting the 4D tensor ready for ResNet-50, and for any other pre-trained model in Keras, requires some additional processing.  First, the RGB image is converted to BGR by reordering the channels.  All pre-trained models have the additional normalization step that the mean pixel (expressed in RGB as $[103.939, 116.779, 123.68]$ and calculated from all pixels in all images in ImageNet) must be subtracted from every pixel in each image.  This is implemented in the imported function `preprocess_input`.  If you're curious, you can check the code for `preprocess_input` [here](https://github.com/fchollet/keras/blob/master/keras/applications/imagenet_utils.py).\n",
    "\n",
    "Now that we have a way to format our image for supplying to ResNet-50, we are now ready to use the model to extract the predictions.  This is accomplished with the `predict` method, which returns an array whose $i$-th entry is the model's predicted probability that the image belongs to the $i$-th ImageNet category.  This is implemented in the `ResNet50_predict_labels` function below.\n",
    "\n",
    "By taking the argmax of the predicted probability vector, we obtain an integer corresponding to the model's predicted object class, which we can identify with an object category through the use of this [dictionary](https://gist.github.com/yrevar/942d3a0ac09ec9e5eb3a). "
   ]
  },
  {
   "cell_type": "code",
   "execution_count": 10,
   "metadata": {},
   "outputs": [],
   "source": [
    "from keras.applications.resnet50 import preprocess_input, decode_predictions\n",
    "\n",
    "def ResNet50_predict_labels(img_path):\n",
    "    # returns prediction vector for image located at img_path\n",
    "    img = preprocess_input(path_to_tensor(img_path))\n",
    "    return np.argmax(ResNet50_model.predict(img))"
   ]
  },
  {
   "cell_type": "markdown",
   "metadata": {},
   "source": [
    "### Write a Dog Detector\n",
    "\n",
    "While looking at the [dictionary](https://gist.github.com/yrevar/942d3a0ac09ec9e5eb3a), you will notice that the categories corresponding to dogs appear in an uninterrupted sequence and correspond to dictionary keys 151-268, inclusive, to include all categories from `'Chihuahua'` to `'Mexican hairless'`.  Thus, in order to check to see if an image is predicted to contain a dog by the pre-trained ResNet-50 model, we need only check if the `ResNet50_predict_labels` function above returns a value between 151 and 268 (inclusive).\n",
    "\n",
    "We use these ideas to complete the `dog_detector` function below, which returns `True` if a dog is detected in an image (and `False` if not)."
   ]
  },
  {
   "cell_type": "code",
   "execution_count": 11,
   "metadata": {},
   "outputs": [],
   "source": [
    "### returns \"True\" if a dog is detected in the image stored at img_path\n",
    "def dog_detector(img_path):\n",
    "    prediction = ResNet50_predict_labels(img_path)\n",
    "    return ((prediction <= 268) & (prediction >= 151)) "
   ]
  },
  {
   "cell_type": "markdown",
   "metadata": {},
   "source": [
    "### (IMPLEMENTATION) Assess the Dog Detector\n",
    "\n",
    "__Question 3:__ Use the code cell below to test the performance of your `dog_detector` function.  \n",
    "- What percentage of the images in `human_files_short` have a detected dog?  \n",
    "- What percentage of the images in `dog_files_short` have a detected dog?\n",
    "\n",
    "__Answer:__100% and 2% "
   ]
  },
  {
   "cell_type": "code",
   "execution_count": 12,
   "metadata": {},
   "outputs": [
    {
     "name": "stdout",
     "output_type": "stream",
     "text": [
      "100\n",
      "2\n"
     ]
    }
   ],
   "source": [
    "### TODO: Test the performance of the dog_detector function\n",
    "res=[]\n",
    "for d in dog_files_short:\n",
    "    if dog_detector(d) == True:res.append(d)\n",
    "    #print(dog_detector(h))\n",
    "print(len(res))    \n",
    "### on the images in human_files_short and dog_files_short.\n",
    "res=[]\n",
    "for h in human_files_short:\n",
    "    if dog_detector(h) == True: res.append(h)\n",
    "    #print(dog_detector(h))\n",
    "print(len(res)) "
   ]
  },
  {
   "cell_type": "markdown",
   "metadata": {},
   "source": [
    "---\n",
    "<a id='step3'></a>\n",
    "## Step 3: Create a CNN to Classify Dog Breeds (from Scratch)\n",
    "\n",
    "Now that we have functions for detecting humans and dogs in images, we need a way to predict breed from images.  In this step, you will create a CNN that classifies dog breeds.  You must create your CNN _from scratch_ (so, you can't use transfer learning _yet_!), and you must attain a test accuracy of at least 1%.  In Step 5 of this notebook, you will have the opportunity to use transfer learning to create a CNN that attains greatly improved accuracy.\n",
    "\n",
    "Be careful with adding too many trainable layers!  More parameters means longer training, which means you are more likely to need a GPU to accelerate the training process.  Thankfully, Keras provides a handy estimate of the time that each epoch is likely to take; you can extrapolate this estimate to figure out how long it will take for your algorithm to train. \n",
    "\n",
    "We mention that the task of assigning breed to dogs from images is considered exceptionally challenging.  To see why, consider that *even a human* would have great difficulty in distinguishing between a Brittany and a Welsh Springer Spaniel.  \n",
    "\n",
    "Brittany | Welsh Springer Spaniel\n",
    "- | - \n",
    "<img src=\"images/Brittany_02625.jpg\" width=\"100\"> | <img src=\"images/Welsh_springer_spaniel_08203.jpg\" width=\"200\">\n",
    "\n",
    "It is not difficult to find other dog breed pairs with minimal inter-class variation (for instance, Curly-Coated Retrievers and American Water Spaniels).  \n",
    "\n",
    "Curly-Coated Retriever | American Water Spaniel\n",
    "- | -\n",
    "<img src=\"images/Curly-coated_retriever_03896.jpg\" width=\"200\"> | <img src=\"images/American_water_spaniel_00648.jpg\" width=\"200\">\n",
    "\n",
    "\n",
    "Likewise, recall that labradors come in yellow, chocolate, and black.  Your vision-based algorithm will have to conquer this high intra-class variation to determine how to classify all of these different shades as the same breed.  \n",
    "\n",
    "Yellow Labrador | Chocolate Labrador | Black Labrador\n",
    "- | -\n",
    "<img src=\"images/Labrador_retriever_06457.jpg\" width=\"150\"> | <img src=\"images/Labrador_retriever_06455.jpg\" width=\"240\"> | <img src=\"images/Labrador_retriever_06449.jpg\" width=\"220\">\n",
    "\n",
    "We also mention that random chance presents an exceptionally low bar: setting aside the fact that the classes are slightly imabalanced, a random guess will provide a correct answer roughly 1 in 133 times, which corresponds to an accuracy of less than 1%.  \n",
    "\n",
    "Remember that the practice is far ahead of the theory in deep learning.  Experiment with many different architectures, and trust your intuition.  And, of course, have fun! \n",
    "\n",
    "### Pre-process the Data\n",
    "\n",
    "We rescale the images by dividing every pixel in every image by 255."
   ]
  },
  {
   "cell_type": "code",
   "execution_count": 7,
   "metadata": {},
   "outputs": [
    {
     "name": "stderr",
     "output_type": "stream",
     "text": [
      "100%|██████████| 6680/6680 [01:37<00:00, 68.53it/s]\n",
      "100%|██████████| 835/835 [00:12<00:00, 64.59it/s]\n",
      "100%|██████████| 836/836 [00:13<00:00, 63.78it/s]\n"
     ]
    }
   ],
   "source": [
    "from PIL import ImageFile                            \n",
    "ImageFile.LOAD_TRUNCATED_IMAGES = True                 \n",
    "\n",
    "# pre-process the data for Keras\n",
    "train_tensors = paths_to_tensor(train_files).astype('float32')/255\n",
    "valid_tensors = paths_to_tensor(valid_files).astype('float32')/255\n",
    "test_tensors = paths_to_tensor(test_files).astype('float32')/255"
   ]
  },
  {
   "cell_type": "markdown",
   "metadata": {},
   "source": [
    "### (IMPLEMENTATION) Model Architecture\n",
    "\n",
    "Create a CNN to classify dog breed.  At the end of your code cell block, summarize the layers of your model by executing the line:\n",
    "    \n",
    "        model.summary()\n",
    "\n",
    "We have imported some Python modules to get you started, but feel free to import as many modules as you need.  If you end up getting stuck, here's a hint that specifies a model that trains relatively fast on CPU and attains >1% test accuracy in 5 epochs:\n",
    "\n",
    "![Sample CNN](images/sample_cnn.png)\n",
    "           \n",
    "__Question 4:__ Outline the steps you took to get to your final CNN architecture and your reasoning at each step.  If you chose to use the hinted architecture above, describe why you think that CNN architecture should work well for the image classification task.\n",
    "\n",
    "__Answer:__ "
   ]
  },
  {
   "cell_type": "code",
   "execution_count": 56,
   "metadata": {},
   "outputs": [
    {
     "name": "stdout",
     "output_type": "stream",
     "text": [
      "_________________________________________________________________\n",
      "Layer (type)                 Output Shape              Param #   \n",
      "=================================================================\n",
      "conv2d_53 (Conv2D)           (None, 224, 224, 16)      208       \n",
      "_________________________________________________________________\n",
      "max_pooling2d_52 (MaxPooling (None, 56, 56, 16)        0         \n",
      "_________________________________________________________________\n",
      "conv2d_54 (Conv2D)           (None, 56, 56, 32)        2080      \n",
      "_________________________________________________________________\n",
      "max_pooling2d_53 (MaxPooling (None, 14, 14, 32)        0         \n",
      "_________________________________________________________________\n",
      "conv2d_55 (Conv2D)           (None, 14, 14, 64)        8256      \n",
      "_________________________________________________________________\n",
      "max_pooling2d_54 (MaxPooling (None, 3, 3, 64)          0         \n",
      "_________________________________________________________________\n",
      "flatten_10 (Flatten)         (None, 576)               0         \n",
      "_________________________________________________________________\n",
      "dense_27 (Dense)             (None, 500)               288500    \n",
      "_________________________________________________________________\n",
      "dense_28 (Dense)             (None, 133)               66633     \n",
      "=================================================================\n",
      "Total params: 365,677\n",
      "Trainable params: 365,677\n",
      "Non-trainable params: 0\n",
      "_________________________________________________________________\n"
     ]
    }
   ],
   "source": [
    "from keras.layers import Conv2D, MaxPooling2D, GlobalAveragePooling2D\n",
    "from keras.layers import Dropout, Flatten, Dense\n",
    "from keras.models import Sequential\n",
    "\n",
    "model = Sequential()\n",
    "\n",
    "### TODO: Define your architecture.\n",
    "model = Sequential()\n",
    "model.add(Conv2D(filters=16, kernel_size=(2,2), padding='same', activation='relu', input_shape=(224, 224, 3)))\n",
    "model.add(MaxPooling2D(pool_size=4))\n",
    "model.add(Conv2D(filters=32, kernel_size=(2,2), padding='same', activation='relu'))\n",
    "model.add(MaxPooling2D(pool_size=4))\n",
    "model.add(Conv2D(filters=64, kernel_size=(2,2), padding='same', activation='relu'))\n",
    "model.add(MaxPooling2D(pool_size=4))\n",
    "model.add(Flatten())\n",
    "model.add(Dense(500, activation='relu'))\n",
    "model.add(Dense(133, activation='softmax'))\n",
    "model.summary()\n",
    "\n",
    "\n",
    "# model = Sequential()\n",
    "# model.add(Conv2D(16, kernel_size=(1,1),strides=(1,1), activation='relu', \n",
    "#                         input_shape=(224, 224, 3)))\n",
    "# model.add(MaxPooling2D(pool_size=(2,2), padding='valid',strides=None))\n",
    "\n",
    "# model.add(Conv2D(32, (2,2), activation='relu'))\n",
    "# model.add(MaxPooling2D(pool_size=(2,2), padding='valid',strides=None))\n",
    "\n",
    "# model.add(Conv2D(64, (2,2), activation='relu'))\n",
    "# model.add(MaxPooling2D(pool_size=(2,2), padding='valid',strides=None))\n",
    "# model.add(GlobalAveragePooling2D(data_format=None))\n",
    "# model.add(Dense(133))\n",
    "\n",
    "# model.summary()"
   ]
  },
  {
   "cell_type": "code",
   "execution_count": null,
   "metadata": {},
   "outputs": [],
   "source": []
  },
  {
   "cell_type": "markdown",
   "metadata": {},
   "source": [
    "### Compile the Model"
   ]
  },
  {
   "cell_type": "code",
   "execution_count": 57,
   "metadata": {},
   "outputs": [],
   "source": [
    "model.compile(optimizer='rmsprop', loss='categorical_crossentropy', metrics=['accuracy'])"
   ]
  },
  {
   "cell_type": "markdown",
   "metadata": {},
   "source": [
    "### (IMPLEMENTATION) Train the Model\n",
    "\n",
    "Train your model in the code cell below.  Use model checkpointing to save the model that attains the best validation loss.\n",
    "\n",
    "You are welcome to [augment the training data](https://blog.keras.io/building-powerful-image-classification-models-using-very-little-data.html), but this is not a requirement. "
   ]
  },
  {
   "cell_type": "code",
   "execution_count": 59,
   "metadata": {
    "scrolled": true
   },
   "outputs": [
    {
     "name": "stdout",
     "output_type": "stream",
     "text": [
      "Train on 6680 samples, validate on 835 samples\n",
      "Epoch 1/30\n",
      "6680/6680 [==============================] - 107s 16ms/step - loss: 1.9258 - acc: 0.4966 - val_loss: 4.4137 - val_acc: 0.1509\n",
      "\n",
      "Epoch 00001: val_loss improved from inf to 4.41365, saving model to saved_models/weights.best.from_scratch.hdf5\n",
      "Epoch 2/30\n",
      "6680/6680 [==============================] - 123s 18ms/step - loss: 1.6364 - acc: 0.5675 - val_loss: 4.5792 - val_acc: 0.1234\n",
      "\n",
      "Epoch 00002: val_loss did not improve\n",
      "Epoch 3/30\n",
      "6680/6680 [==============================] - 133s 20ms/step - loss: 1.3332 - acc: 0.6382 - val_loss: 4.9264 - val_acc: 0.1497\n",
      "\n",
      "Epoch 00003: val_loss did not improve\n",
      "Epoch 4/30\n",
      "6680/6680 [==============================] - 130s 19ms/step - loss: 1.0702 - acc: 0.7037 - val_loss: 5.5256 - val_acc: 0.1329\n",
      "\n",
      "Epoch 00004: val_loss did not improve\n",
      "Epoch 5/30\n",
      "6680/6680 [==============================] - 133s 20ms/step - loss: 0.8227 - acc: 0.7677 - val_loss: 5.7122 - val_acc: 0.1377\n",
      "\n",
      "Epoch 00005: val_loss did not improve\n",
      "Epoch 6/30\n",
      "6680/6680 [==============================] - 130s 19ms/step - loss: 0.6127 - acc: 0.8234 - val_loss: 6.1629 - val_acc: 0.1473\n",
      "\n",
      "Epoch 00006: val_loss did not improve\n",
      "Epoch 7/30\n",
      "6680/6680 [==============================] - 132s 20ms/step - loss: 0.4700 - acc: 0.8615 - val_loss: 6.7062 - val_acc: 0.1329\n",
      "\n",
      "Epoch 00007: val_loss did not improve\n",
      "Epoch 8/30\n",
      "6680/6680 [==============================] - 132s 20ms/step - loss: 0.3492 - acc: 0.8963 - val_loss: 7.2162 - val_acc: 0.1305\n",
      "\n",
      "Epoch 00008: val_loss did not improve\n",
      "Epoch 9/30\n",
      "6680/6680 [==============================] - 132s 20ms/step - loss: 0.2723 - acc: 0.9183 - val_loss: 7.6793 - val_acc: 0.1102\n",
      "\n",
      "Epoch 00009: val_loss did not improve\n",
      "Epoch 10/30\n",
      "6680/6680 [==============================] - 137s 21ms/step - loss: 0.2275 - acc: 0.9310 - val_loss: 8.0616 - val_acc: 0.1234\n",
      "\n",
      "Epoch 00010: val_loss did not improve\n",
      "Epoch 11/30\n",
      "6680/6680 [==============================] - 143s 21ms/step - loss: 0.1908 - acc: 0.9425 - val_loss: 8.3874 - val_acc: 0.1257\n",
      "\n",
      "Epoch 00011: val_loss did not improve\n",
      "Epoch 12/30\n",
      "6680/6680 [==============================] - 147s 22ms/step - loss: 0.1854 - acc: 0.9469 - val_loss: 8.7033 - val_acc: 0.1341\n",
      "\n",
      "Epoch 00012: val_loss did not improve\n",
      "Epoch 13/30\n",
      "6680/6680 [==============================] - 141s 21ms/step - loss: 0.1505 - acc: 0.9542 - val_loss: 8.7799 - val_acc: 0.1353\n",
      "\n",
      "Epoch 00013: val_loss did not improve\n",
      "Epoch 14/30\n",
      "6680/6680 [==============================] - 146s 22ms/step - loss: 0.1389 - acc: 0.9606 - val_loss: 8.8463 - val_acc: 0.1281\n",
      "\n",
      "Epoch 00014: val_loss did not improve\n",
      "Epoch 15/30\n",
      "6680/6680 [==============================] - 146s 22ms/step - loss: 0.1341 - acc: 0.9608 - val_loss: 9.0347 - val_acc: 0.1305\n",
      "\n",
      "Epoch 00015: val_loss did not improve\n",
      "Epoch 16/30\n",
      "6680/6680 [==============================] - 149s 22ms/step - loss: 0.1257 - acc: 0.9635 - val_loss: 9.3199 - val_acc: 0.1293\n",
      "\n",
      "Epoch 00016: val_loss did not improve\n",
      "Epoch 17/30\n",
      "6680/6680 [==============================] - 137s 21ms/step - loss: 0.1082 - acc: 0.9654 - val_loss: 9.1124 - val_acc: 0.1281\n",
      "\n",
      "Epoch 00017: val_loss did not improve\n",
      "Epoch 18/30\n",
      "6680/6680 [==============================] - 144s 21ms/step - loss: 0.1043 - acc: 0.9699 - val_loss: 9.5303 - val_acc: 0.1353\n",
      "\n",
      "Epoch 00018: val_loss did not improve\n",
      "Epoch 19/30\n",
      "6680/6680 [==============================] - 144s 21ms/step - loss: 0.1024 - acc: 0.9698 - val_loss: 9.5857 - val_acc: 0.1341\n",
      "\n",
      "Epoch 00019: val_loss did not improve\n",
      "Epoch 20/30\n",
      "6680/6680 [==============================] - 141s 21ms/step - loss: 0.0971 - acc: 0.9704 - val_loss: 9.7620 - val_acc: 0.1162\n",
      "\n",
      "Epoch 00020: val_loss did not improve\n",
      "Epoch 21/30\n",
      "6680/6680 [==============================] - 145s 22ms/step - loss: 0.0918 - acc: 0.9725 - val_loss: 9.7723 - val_acc: 0.1281\n",
      "\n",
      "Epoch 00021: val_loss did not improve\n",
      "Epoch 22/30\n",
      "6680/6680 [==============================] - 144s 22ms/step - loss: 0.1015 - acc: 0.9701 - val_loss: 9.9940 - val_acc: 0.1377\n",
      "\n",
      "Epoch 00022: val_loss did not improve\n",
      "Epoch 23/30\n",
      "6680/6680 [==============================] - 144s 22ms/step - loss: 0.0909 - acc: 0.9740 - val_loss: 9.8853 - val_acc: 0.1353\n",
      "\n",
      "Epoch 00023: val_loss did not improve\n",
      "Epoch 24/30\n",
      "6680/6680 [==============================] - 144s 22ms/step - loss: 0.1022 - acc: 0.9686 - val_loss: 10.3708 - val_acc: 0.1305\n",
      "\n",
      "Epoch 00024: val_loss did not improve\n",
      "Epoch 25/30\n",
      "6680/6680 [==============================] - 142s 21ms/step - loss: 0.0793 - acc: 0.9778 - val_loss: 10.1411 - val_acc: 0.1437\n",
      "\n",
      "Epoch 00025: val_loss did not improve\n",
      "Epoch 26/30\n",
      "6680/6680 [==============================] - 144s 21ms/step - loss: 0.0859 - acc: 0.9774 - val_loss: 10.1037 - val_acc: 0.1317\n",
      "\n",
      "Epoch 00026: val_loss did not improve\n",
      "Epoch 27/30\n",
      "6680/6680 [==============================] - 1151s 172ms/step - loss: 0.0842 - acc: 0.9777 - val_loss: 10.1329 - val_acc: 0.1257\n",
      "\n",
      "Epoch 00027: val_loss did not improve\n",
      "Epoch 28/30\n",
      "6680/6680 [==============================] - 119s 18ms/step - loss: 0.0779 - acc: 0.9792 - val_loss: 10.5203 - val_acc: 0.1198\n",
      "\n",
      "Epoch 00028: val_loss did not improve\n",
      "Epoch 29/30\n",
      "6680/6680 [==============================] - 114s 17ms/step - loss: 0.0797 - acc: 0.9775 - val_loss: 10.3721 - val_acc: 0.1449\n",
      "\n",
      "Epoch 00029: val_loss did not improve\n",
      "Epoch 30/30\n",
      "6680/6680 [==============================] - 117s 17ms/step - loss: 0.0723 - acc: 0.9796 - val_loss: 10.7435 - val_acc: 0.1078\n",
      "\n",
      "Epoch 00030: val_loss did not improve\n"
     ]
    },
    {
     "data": {
      "text/plain": [
       "<keras.callbacks.History at 0x7fdd48016160>"
      ]
     },
     "execution_count": 59,
     "metadata": {},
     "output_type": "execute_result"
    }
   ],
   "source": [
    "from keras.callbacks import ModelCheckpoint  \n",
    "\n",
    "### TODO: specify the number of epochs that you would like to use to train the model.\n",
    "\n",
    "epochs = 30\n",
    "\n",
    "### Do NOT modify the code below this line.\n",
    "\n",
    "checkpointer = ModelCheckpoint(filepath='saved_models/weights.best.from_scratch.hdf5', \n",
    "                               verbose=1, save_best_only=True)\n",
    "\n",
    "model.fit(train_tensors, train_targets, \n",
    "          validation_data=(valid_tensors, valid_targets),\n",
    "          epochs=epochs, batch_size=20, callbacks=[checkpointer], verbose=1)"
   ]
  },
  {
   "cell_type": "markdown",
   "metadata": {},
   "source": [
    "# Load the Model with the Best Validation Loss"
   ]
  },
  {
   "cell_type": "code",
   "execution_count": 76,
   "metadata": {},
   "outputs": [],
   "source": [
    "model.load_weights('saved_models/weights.best.from_scratch.hdf5')"
   ]
  },
  {
   "cell_type": "markdown",
   "metadata": {},
   "source": [
    "### Test the Model\n",
    "\n",
    "Try out your model on the test dataset of dog images.  Ensure that your test accuracy is greater than 1%."
   ]
  },
  {
   "cell_type": "code",
   "execution_count": 77,
   "metadata": {},
   "outputs": [
    {
     "name": "stdout",
     "output_type": "stream",
     "text": [
      "Test accuracy: 7.7751%\n"
     ]
    }
   ],
   "source": [
    "# get index of predicted dog breed for each image in test set\n",
    "dog_breed_predictions = [np.argmax(model.predict(np.expand_dims(tensor, axis=0))) for tensor in test_tensors]\n",
    "\n",
    "# report test accuracy\n",
    "test_accuracy = 100*np.sum(np.array(dog_breed_predictions)==np.argmax(test_targets, axis=1))/len(dog_breed_predictions)\n",
    "print('Test accuracy: %.4f%%' % test_accuracy)"
   ]
  },
  {
   "cell_type": "markdown",
   "metadata": {},
   "source": [
    "---\n",
    "<a id='step4'></a>\n",
    "## Step 4: Use a CNN to Classify Dog Breeds\n",
    "\n",
    "To reduce training time without sacrificing accuracy, we show you how to train a CNN using transfer learning.  In the following step, you will get a chance to use transfer learning to train your own CNN.\n",
    "\n",
    "### Obtain Bottleneck Features"
   ]
  },
  {
   "cell_type": "code",
   "execution_count": 12,
   "metadata": {},
   "outputs": [],
   "source": [
    "bottleneck_features = np.load('/root/Downloads/dog-project-master/images/DogVGG16Data.npz')\n",
    "train_VGG16 = bottleneck_features['train']\n",
    "valid_VGG16 = bottleneck_features['valid']\n",
    "test_VGG16 = bottleneck_features['test']"
   ]
  },
  {
   "cell_type": "markdown",
   "metadata": {},
   "source": [
    "### Model Architecture\n",
    "\n",
    "The model uses the the pre-trained VGG-16 model as a fixed feature extractor, where the last convolutional output of VGG-16 is fed as input to our model.  We only add a global average pooling layer and a fully connected layer, where the latter contains one node for each dog category and is equipped with a softmax."
   ]
  },
  {
   "cell_type": "code",
   "execution_count": 13,
   "metadata": {},
   "outputs": [
    {
     "name": "stdout",
     "output_type": "stream",
     "text": [
      "_________________________________________________________________\n",
      "Layer (type)                 Output Shape              Param #   \n",
      "=================================================================\n",
      "global_average_pooling2d_1 ( (None, 512)               0         \n",
      "_________________________________________________________________\n",
      "dense_2 (Dense)              (None, 133)               68229     \n",
      "=================================================================\n",
      "Total params: 68,229\n",
      "Trainable params: 68,229\n",
      "Non-trainable params: 0\n",
      "_________________________________________________________________\n"
     ]
    }
   ],
   "source": [
    "VGG16_model = Sequential()\n",
    "VGG16_model.add(GlobalAveragePooling2D(input_shape=train_VGG16.shape[1:]))\n",
    "VGG16_model.add(Dense(133, activation='softmax'))\n",
    "\n",
    "VGG16_model.summary()"
   ]
  },
  {
   "cell_type": "markdown",
   "metadata": {},
   "source": [
    "### Compile the Model"
   ]
  },
  {
   "cell_type": "code",
   "execution_count": 25,
   "metadata": {},
   "outputs": [],
   "source": [
    "VGG16_model.compile(loss='categorical_crossentropy', optimizer='rmsprop', metrics=['accuracy'])"
   ]
  },
  {
   "cell_type": "markdown",
   "metadata": {},
   "source": [
    "### Train the Model"
   ]
  },
  {
   "cell_type": "code",
   "execution_count": 26,
   "metadata": {},
   "outputs": [
    {
     "name": "stdout",
     "output_type": "stream",
     "text": [
      "Train on 6680 samples, validate on 835 samples\n",
      "Epoch 1/20\n",
      "6680/6680 [==============================] - 2s 337us/step - loss: 11.4486 - acc: 0.1421 - val_loss: 9.9346 - val_acc: 0.2467\n",
      "\n",
      "Epoch 00001: val_loss improved from inf to 9.93463, saving model to saved_models/weights.best.VGG16.hdf5\n",
      "Epoch 2/20\n",
      "6680/6680 [==============================] - 2s 230us/step - loss: 9.2884 - acc: 0.3234 - val_loss: 9.3134 - val_acc: 0.3234\n",
      "\n",
      "Epoch 00002: val_loss improved from 9.93463 to 9.31338, saving model to saved_models/weights.best.VGG16.hdf5\n",
      "Epoch 3/20\n",
      "6680/6680 [==============================] - 2s 234us/step - loss: 8.7658 - acc: 0.3793 - val_loss: 8.8563 - val_acc: 0.3533\n",
      "\n",
      "Epoch 00003: val_loss improved from 9.31338 to 8.85627, saving model to saved_models/weights.best.VGG16.hdf5\n",
      "Epoch 4/20\n",
      "6680/6680 [==============================] - 1s 222us/step - loss: 8.3129 - acc: 0.4195 - val_loss: 8.6841 - val_acc: 0.3593\n",
      "\n",
      "Epoch 00004: val_loss improved from 8.85627 to 8.68407, saving model to saved_models/weights.best.VGG16.hdf5\n",
      "Epoch 5/20\n",
      "6680/6680 [==============================] - 1s 218us/step - loss: 8.0558 - acc: 0.4499 - val_loss: 8.4503 - val_acc: 0.3772\n",
      "\n",
      "Epoch 00005: val_loss improved from 8.68407 to 8.45028, saving model to saved_models/weights.best.VGG16.hdf5\n",
      "Epoch 6/20\n",
      "6680/6680 [==============================] - 1s 222us/step - loss: 7.8895 - acc: 0.4729 - val_loss: 8.4080 - val_acc: 0.4012\n",
      "\n",
      "Epoch 00006: val_loss improved from 8.45028 to 8.40805, saving model to saved_models/weights.best.VGG16.hdf5\n",
      "Epoch 7/20\n",
      "6680/6680 [==============================] - 2s 233us/step - loss: 7.7708 - acc: 0.4874 - val_loss: 8.1883 - val_acc: 0.4132\n",
      "\n",
      "Epoch 00007: val_loss improved from 8.40805 to 8.18830, saving model to saved_models/weights.best.VGG16.hdf5\n",
      "Epoch 8/20\n",
      "6680/6680 [==============================] - 1s 223us/step - loss: 7.5358 - acc: 0.4975 - val_loss: 8.0003 - val_acc: 0.4084\n",
      "\n",
      "Epoch 00008: val_loss improved from 8.18830 to 8.00029, saving model to saved_models/weights.best.VGG16.hdf5\n",
      "Epoch 9/20\n",
      "6680/6680 [==============================] - 2s 228us/step - loss: 7.3277 - acc: 0.5202 - val_loss: 7.9699 - val_acc: 0.4108\n",
      "\n",
      "Epoch 00009: val_loss improved from 8.00029 to 7.96991, saving model to saved_models/weights.best.VGG16.hdf5\n",
      "Epoch 10/20\n",
      "6680/6680 [==============================] - 2s 226us/step - loss: 7.1943 - acc: 0.5314 - val_loss: 7.8673 - val_acc: 0.4204\n",
      "\n",
      "Epoch 00010: val_loss improved from 7.96991 to 7.86731, saving model to saved_models/weights.best.VGG16.hdf5\n",
      "Epoch 11/20\n",
      "6680/6680 [==============================] - 2s 229us/step - loss: 7.0855 - acc: 0.5449 - val_loss: 7.8428 - val_acc: 0.4192\n",
      "\n",
      "Epoch 00011: val_loss improved from 7.86731 to 7.84284, saving model to saved_models/weights.best.VGG16.hdf5\n",
      "Epoch 12/20\n",
      "6680/6680 [==============================] - 2s 232us/step - loss: 6.9700 - acc: 0.5485 - val_loss: 7.5613 - val_acc: 0.4383\n",
      "\n",
      "Epoch 00012: val_loss improved from 7.84284 to 7.56133, saving model to saved_models/weights.best.VGG16.hdf5\n",
      "Epoch 13/20\n",
      "6680/6680 [==============================] - 2s 234us/step - loss: 6.6902 - acc: 0.5672 - val_loss: 7.4289 - val_acc: 0.4479\n",
      "\n",
      "Epoch 00013: val_loss improved from 7.56133 to 7.42890, saving model to saved_models/weights.best.VGG16.hdf5\n",
      "Epoch 14/20\n",
      "6680/6680 [==============================] - 2s 231us/step - loss: 6.5121 - acc: 0.5774 - val_loss: 7.2445 - val_acc: 0.4563\n",
      "\n",
      "Epoch 00014: val_loss improved from 7.42890 to 7.24450, saving model to saved_models/weights.best.VGG16.hdf5\n",
      "Epoch 15/20\n",
      "6680/6680 [==============================] - 2s 232us/step - loss: 6.4379 - acc: 0.5894 - val_loss: 7.1940 - val_acc: 0.4659\n",
      "\n",
      "Epoch 00015: val_loss improved from 7.24450 to 7.19402, saving model to saved_models/weights.best.VGG16.hdf5\n",
      "Epoch 16/20\n",
      "6680/6680 [==============================] - 2s 234us/step - loss: 6.3986 - acc: 0.5904 - val_loss: 7.1447 - val_acc: 0.4695\n",
      "\n",
      "Epoch 00016: val_loss improved from 7.19402 to 7.14471, saving model to saved_models/weights.best.VGG16.hdf5\n",
      "Epoch 17/20\n",
      "6680/6680 [==============================] - 2s 236us/step - loss: 6.2947 - acc: 0.5970 - val_loss: 7.0420 - val_acc: 0.4814\n",
      "\n",
      "Epoch 00017: val_loss improved from 7.14471 to 7.04200, saving model to saved_models/weights.best.VGG16.hdf5\n",
      "Epoch 18/20\n",
      "6680/6680 [==============================] - 2s 235us/step - loss: 6.2465 - acc: 0.6022 - val_loss: 7.0933 - val_acc: 0.4778\n",
      "\n",
      "Epoch 00018: val_loss did not improve\n",
      "Epoch 19/20\n",
      "6680/6680 [==============================] - 2s 237us/step - loss: 6.1592 - acc: 0.6042 - val_loss: 6.9807 - val_acc: 0.4814\n",
      "\n",
      "Epoch 00019: val_loss improved from 7.04200 to 6.98072, saving model to saved_models/weights.best.VGG16.hdf5\n",
      "Epoch 20/20\n",
      "6680/6680 [==============================] - 2s 235us/step - loss: 6.0351 - acc: 0.6120 - val_loss: 6.9571 - val_acc: 0.4707\n",
      "\n",
      "Epoch 00020: val_loss improved from 6.98072 to 6.95707, saving model to saved_models/weights.best.VGG16.hdf5\n"
     ]
    },
    {
     "data": {
      "text/plain": [
       "<keras.callbacks.History at 0x7f27aea82080>"
      ]
     },
     "execution_count": 26,
     "metadata": {},
     "output_type": "execute_result"
    }
   ],
   "source": [
    "from keras.callbacks import ModelCheckpoint  \n",
    "checkpointer = ModelCheckpoint(filepath='saved_models/weights.best.VGG16.hdf5', \n",
    "                               verbose=1, save_best_only=True)\n",
    "\n",
    "VGG16_model.fit(train_VGG16, train_targets, \n",
    "          validation_data=(valid_VGG16, valid_targets),\n",
    "          epochs=20, batch_size=20, callbacks=[checkpointer], verbose=1)"
   ]
  },
  {
   "cell_type": "markdown",
   "metadata": {},
   "source": [
    "### Load the Model with the Best Validation Loss"
   ]
  },
  {
   "cell_type": "code",
   "execution_count": 14,
   "metadata": {},
   "outputs": [],
   "source": [
    "VGG16_model.load_weights('saved_models/weights.best.VGG16.hdf5')"
   ]
  },
  {
   "cell_type": "markdown",
   "metadata": {},
   "source": [
    "### Test the Model\n",
    "\n",
    "Now, we can use the CNN to test how well it identifies breed within our test dataset of dog images.  We print the test accuracy below."
   ]
  },
  {
   "cell_type": "code",
   "execution_count": 28,
   "metadata": {},
   "outputs": [
    {
     "name": "stdout",
     "output_type": "stream",
     "text": [
      "Test accuracy: 47.0096%\n"
     ]
    }
   ],
   "source": [
    "# get index of predicted dog breed for each image in test set\n",
    "VGG16_predictions = [np.argmax(VGG16_model.predict(np.expand_dims(feature, axis=0))) for feature in test_VGG16]\n",
    "\n",
    "# report test accuracy\n",
    "test_accuracy = 100*np.sum(np.array(VGG16_predictions)==np.argmax(test_targets, axis=1))/len(VGG16_predictions)\n",
    "print('Test accuracy: %.4f%%' % test_accuracy)"
   ]
  },
  {
   "cell_type": "markdown",
   "metadata": {},
   "source": [
    "### Predict Dog Breed with the Model"
   ]
  },
  {
   "cell_type": "code",
   "execution_count": 26,
   "metadata": {},
   "outputs": [
    {
     "data": {
      "text/plain": [
       "94"
      ]
     },
     "execution_count": 26,
     "metadata": {},
     "output_type": "execute_result"
    }
   ],
   "source": [
    "from extract_bottleneck_features import *\n",
    "\n",
    "def VGG16_predict_breed(img_path):\n",
    "    # extract bottleneck features\n",
    "    bottleneck_feature = extract_VGG16(path_to_tensor(img_path))\n",
    "    # obtain predicted vector\n",
    "    predicted_vector = VGG16_model.predict(bottleneck_feature)\n",
    "    # return dog breed that is predicted by the model\n",
    "    return np.argmax(predicted_vector)\n",
    "    #return dog_names[np.argmax(predicted_vector)]\n",
    "img_path= '/root/Downloads/dog-project-master/images/dogImages/train/095.Kuvasz/Kuvasz_06442.jpg'\n",
    "img=path_to_tensor('/root/Downloads/dog-project-master/images/dogImages/train/095.Kuvasz/Kuvasz_06442.jpg')\n",
    "VGG16_predict_breed(img_path)"
   ]
  },
  {
   "cell_type": "markdown",
   "metadata": {},
   "source": [
    "\n",
    "Step 5: Create a CNN to Classify Dog Breeds (using Transfer Learning)\n",
    "\n",
    "You will now use transfer learning to create a CNN that can identify dog breed from images. Your CNN must attain at least 60% accuracy on the test set.\n",
    "    \n",
    "    \n",
    "In Step 4, we used transfer learning to create a CNN using VGG-16 bottleneck features. In this section, you must use the bottleneck features from a different pre-trained model. To make things easier for you, we have pre-computed the features for all of the networks that are currently available in Keras:\n",
    "\n",
    "    VGG-19 bottleneck features\n",
    "    ResNet-50 bottleneck features\n",
    "    Inception bottleneck features\n",
    "    Xception bottleneck features\n",
    "\n",
    "The files are encoded as such:\n",
    "\n",
    "Dog{network}Data.npz\n",
    "\n",
    "where {network}, in the above filename, can be one of VGG19, Resnet50, InceptionV3, or Xception. Pick one of the above architectures, download the corresponding bottleneck features, and store the downloaded file in the bottleneck_features/ folder in the repository.\n",
    "(IMPLEMENTATION) Obtain Bottleneck Features\n",
    "\n",
    "In the code block below, extract the bottleneck features corresponding to the train, test, and validation sets by running the following:\n",
    "\n",
    "bottleneck_features = np.load('bottleneck_features/Dog{network}Data.npz')\n",
    "train_{network} = bottleneck_features['train']\n",
    "valid_{network} = bottleneck_features['valid']\n",
    "test_{network} = bottleneck_features['test']\n",
    "    "
   ]
  },
  {
   "cell_type": "code",
   "execution_count": 15,
   "metadata": {},
   "outputs": [],
   "source": [
    "### TODO: Obtain bottleneck features from another pre-trained CNN.\n",
    "bottleneck_features = np.load('/root/Downloads/dog-project-master/images/DogResnet50Data.npz')\n",
    "train_DogResnet = bottleneck_features['train']\n",
    "valid_DogResnet = bottleneck_features['valid']\n",
    "test_DogResnet = bottleneck_features['test']"
   ]
  },
  {
   "cell_type": "markdown",
   "metadata": {},
   "source": [
    "### (IMPLEMENTATION) Model Architecture\n",
    "\n",
    "Create a CNN to classify dog breed.  At the end of your code cell block, summarize the layers of your model by executing the line:\n",
    "    \n",
    "        <your model's name>.summary()\n",
    "   \n",
    "__Question 5:__ Outline the steps you took to get to your final CNN architecture and your reasoning at each step.  Describe why you think the architecture is suitable for the current problem.\n",
    "\n",
    "__Answer:__ \n",
    "\n"
   ]
  },
  {
   "cell_type": "code",
   "execution_count": 16,
   "metadata": {},
   "outputs": [
    {
     "name": "stdout",
     "output_type": "stream",
     "text": [
      "_________________________________________________________________\n",
      "Layer (type)                 Output Shape              Param #   \n",
      "=================================================================\n",
      "global_average_pooling2d_2 ( (None, 2048)              0         \n",
      "_________________________________________________________________\n",
      "dense_3 (Dense)              (None, 133)               272517    \n",
      "=================================================================\n",
      "Total params: 272,517\n",
      "Trainable params: 272,517\n",
      "Non-trainable params: 0\n",
      "_________________________________________________________________\n"
     ]
    }
   ],
   "source": [
    "### TODO: Define your architecture.\n",
    "DogResnet_model = Sequential()\n",
    "DogResnet_model.add(GlobalAveragePooling2D(input_shape=train_DogResnet.shape[1:]))\n",
    "DogResnet_model.add(Dense(133, activation='softmax'))\n",
    "\n",
    "DogResnet_model.summary()"
   ]
  },
  {
   "cell_type": "markdown",
   "metadata": {},
   "source": [
    "### (IMPLEMENTATION) Compile the Model"
   ]
  },
  {
   "cell_type": "code",
   "execution_count": 17,
   "metadata": {},
   "outputs": [],
   "source": [
    "### TODO: Compile the model.\n",
    "DogResnet_model.compile(loss='categorical_crossentropy', optimizer='rmsprop', metrics=['accuracy'])"
   ]
  },
  {
   "cell_type": "markdown",
   "metadata": {},
   "source": [
    "### (IMPLEMENTATION) Train the Model\n",
    "\n",
    "Train your model in the code cell below.  Use model checkpointing to save the model that attains the best validation loss.  \n",
    "\n",
    "You are welcome to [augment the training data](https://blog.keras.io/building-powerful-image-classification-models-using-very-little-data.html), but this is not a requirement. "
   ]
  },
  {
   "cell_type": "code",
   "execution_count": 19,
   "metadata": {},
   "outputs": [
    {
     "name": "stdout",
     "output_type": "stream",
     "text": [
      "Train on 6680 samples, validate on 835 samples\n",
      "Epoch 1/20\n",
      "6680/6680 [==============================] - 3s 437us/step - loss: 1.6452 - acc: 0.5913 - val_loss: 0.8749 - val_acc: 0.7305\n",
      "\n",
      "Epoch 00001: val_loss improved from inf to 0.87492, saving model to saved_models/weights.best.DogResnet.hdf5\n",
      "Epoch 2/20\n",
      "6680/6680 [==============================] - 2s 281us/step - loss: 0.4333 - acc: 0.8644 - val_loss: 0.7555 - val_acc: 0.7653\n",
      "\n",
      "Epoch 00002: val_loss improved from 0.87492 to 0.75548, saving model to saved_models/weights.best.DogResnet.hdf5\n",
      "Epoch 3/20\n",
      "6680/6680 [==============================] - 2s 289us/step - loss: 0.2633 - acc: 0.9171 - val_loss: 0.7199 - val_acc: 0.7844\n",
      "\n",
      "Epoch 00003: val_loss improved from 0.75548 to 0.71995, saving model to saved_models/weights.best.DogResnet.hdf5\n",
      "Epoch 4/20\n",
      "6680/6680 [==============================] - 2s 290us/step - loss: 0.1718 - acc: 0.9461 - val_loss: 0.7265 - val_acc: 0.7988\n",
      "\n",
      "Epoch 00004: val_loss did not improve\n",
      "Epoch 5/20\n",
      "6680/6680 [==============================] - 2s 291us/step - loss: 0.1254 - acc: 0.9627 - val_loss: 0.6610 - val_acc: 0.8228\n",
      "\n",
      "Epoch 00005: val_loss improved from 0.71995 to 0.66100, saving model to saved_models/weights.best.DogResnet.hdf5\n",
      "Epoch 6/20\n",
      "6680/6680 [==============================] - 2s 299us/step - loss: 0.0907 - acc: 0.9717 - val_loss: 0.6833 - val_acc: 0.8228\n",
      "\n",
      "Epoch 00006: val_loss did not improve\n",
      "Epoch 7/20\n",
      "6680/6680 [==============================] - 2s 304us/step - loss: 0.0688 - acc: 0.9772 - val_loss: 0.7194 - val_acc: 0.8096\n",
      "\n",
      "Epoch 00007: val_loss did not improve\n",
      "Epoch 8/20\n",
      "6680/6680 [==============================] - 2s 300us/step - loss: 0.0494 - acc: 0.9855 - val_loss: 0.7295 - val_acc: 0.8192\n",
      "\n",
      "Epoch 00008: val_loss did not improve\n",
      "Epoch 9/20\n",
      "6680/6680 [==============================] - 2s 307us/step - loss: 0.0390 - acc: 0.9886 - val_loss: 0.7696 - val_acc: 0.8144\n",
      "\n",
      "Epoch 00009: val_loss did not improve\n",
      "Epoch 10/20\n",
      "6680/6680 [==============================] - 2s 306us/step - loss: 0.0276 - acc: 0.9927 - val_loss: 0.7682 - val_acc: 0.8120\n",
      "\n",
      "Epoch 00010: val_loss did not improve\n",
      "Epoch 11/20\n",
      "6680/6680 [==============================] - 2s 300us/step - loss: 0.0214 - acc: 0.9954 - val_loss: 0.7555 - val_acc: 0.8168\n",
      "\n",
      "Epoch 00011: val_loss did not improve\n",
      "Epoch 12/20\n",
      "6680/6680 [==============================] - 2s 305us/step - loss: 0.0170 - acc: 0.9957 - val_loss: 0.8379 - val_acc: 0.8036\n",
      "\n",
      "Epoch 00012: val_loss did not improve\n",
      "Epoch 13/20\n",
      "6680/6680 [==============================] - 2s 304us/step - loss: 0.0143 - acc: 0.9967 - val_loss: 0.8162 - val_acc: 0.8192\n",
      "\n",
      "Epoch 00013: val_loss did not improve\n",
      "Epoch 14/20\n",
      "6680/6680 [==============================] - 2s 306us/step - loss: 0.0098 - acc: 0.9978 - val_loss: 0.8419 - val_acc: 0.8275\n",
      "\n",
      "Epoch 00014: val_loss did not improve\n",
      "Epoch 15/20\n",
      "6680/6680 [==============================] - 2s 297us/step - loss: 0.0089 - acc: 0.9979 - val_loss: 0.8620 - val_acc: 0.8204\n",
      "\n",
      "Epoch 00015: val_loss did not improve\n",
      "Epoch 16/20\n",
      "6680/6680 [==============================] - 2s 297us/step - loss: 0.0075 - acc: 0.9984 - val_loss: 0.8507 - val_acc: 0.8275\n",
      "\n",
      "Epoch 00016: val_loss did not improve\n",
      "Epoch 17/20\n",
      "6680/6680 [==============================] - 2s 304us/step - loss: 0.0079 - acc: 0.9976 - val_loss: 0.9004 - val_acc: 0.8311\n",
      "\n",
      "Epoch 00017: val_loss did not improve\n",
      "Epoch 18/20\n",
      "6680/6680 [==============================] - 2s 304us/step - loss: 0.0064 - acc: 0.9984 - val_loss: 0.9085 - val_acc: 0.8180\n",
      "\n",
      "Epoch 00018: val_loss did not improve\n",
      "Epoch 19/20\n",
      "6680/6680 [==============================] - 2s 303us/step - loss: 0.0060 - acc: 0.9984 - val_loss: 0.9026 - val_acc: 0.8311\n",
      "\n",
      "Epoch 00019: val_loss did not improve\n",
      "Epoch 20/20\n",
      "6680/6680 [==============================] - 2s 299us/step - loss: 0.0056 - acc: 0.9984 - val_loss: 0.9048 - val_acc: 0.8323\n",
      "\n",
      "Epoch 00020: val_loss did not improve\n"
     ]
    },
    {
     "data": {
      "text/plain": [
       "<keras.callbacks.History at 0x7fd331c72c88>"
      ]
     },
     "execution_count": 19,
     "metadata": {},
     "output_type": "execute_result"
    }
   ],
   "source": [
    "### TODO: Train the model.\n",
    "from keras.callbacks import ModelCheckpoint \n",
    "checkpointer = ModelCheckpoint(filepath='saved_models/weights.best.DogResnet.hdf5', \n",
    "                               verbose=1, save_best_only=True)\n",
    "\n",
    "DogResnet_model.fit(train_DogResnet, train_targets, \n",
    "          validation_data=(valid_DogResnet, valid_targets),\n",
    "          epochs=20, batch_size=20, callbacks=[checkpointer], verbose=1)"
   ]
  },
  {
   "cell_type": "markdown",
   "metadata": {},
   "source": [
    "### (IMPLEMENTATION) Load the Model with the Best Validation Loss"
   ]
  },
  {
   "cell_type": "code",
   "execution_count": 24,
   "metadata": {},
   "outputs": [],
   "source": [
    "### TODO: Load the model weights with the best validation loss.\n",
    "DogResnet_model.load_weights('saved_models/weights.best.DogResnet.hdf5')\n",
    "DogResnet_predictions = [np.argmax(DogResnet_model.predict(np.expand_dims(feature, axis=0))) for feature in test_DogResnet]\n",
    "\n"
   ]
  },
  {
   "cell_type": "code",
   "execution_count": 130,
   "metadata": {},
   "outputs": [
    {
     "name": "stdout",
     "output_type": "stream",
     "text": [
      "[56, 58, 114, 18, 67, 1, 42, 51, 96, 50, 1, 18, 74, 126, 70, 44, 122, 31, 90, 41, 97, 68, 17, 94, 35, 123, 18, 89, 91, 112, 4, 108, 28, 22, 105, 79, 34, 38, 3, 117, 58, 84, 41, 26, 76, 9, 100, 89, 87, 7, 32, 42, 73, 13, 67, 118, 101, 103, 29, 96, 42, 102, 33, 95, 99, 27, 132, 71, 42, 37, 87, 57, 98, 58, 108, 76, 29, 113, 37, 17, 101, 102, 39, 57, 92, 86, 79, 45, 5, 36, 93, 14, 130, 101, 21, 19, 75, 58, 8, 83, 7, 10, 58, 23, 71, 114, 51, 56, 83, 86, 98, 62, 43, 11, 66, 10, 118, 82, 27, 43, 111, 0, 131, 98, 36, 109, 80, 78, 43, 20, 47, 44, 26, 117, 101, 53, 19, 55, 53, 49, 79, 74, 47, 55, 4, 2, 83, 43, 54, 6, 87, 23, 15, 82, 91, 1, 67, 9, 85, 16, 97, 28, 90, 87, 34, 37, 130, 97, 115, 90, 71, 33, 44, 59, 35, 36, 119, 35, 111, 19, 76, 100, 9, 6, 59, 62, 45, 15, 4, 31, 6, 31, 20, 123, 30, 76, 60, 10, 8, 97, 15, 50, 69, 67, 70, 89, 38, 4, 93, 84, 90, 15, 1, 20, 37, 62, 7, 102, 23, 52, 33, 13, 83, 40, 111, 120, 124, 70, 45, 54, 82, 36, 95, 43, 119, 32, 2, 62, 55, 104, 42, 122, 40, 56, 77, 78, 117, 40, 40, 52, 76, 32, 114, 63, 5, 74, 130, 10, 45, 26, 38, 62, 79, 41, 96, 86, 65, 33, 131, 4, 10, 54, 112, 95, 14, 95, 51, 12, 74, 117, 129, 28, 59, 21, 32, 25, 116, 111, 76, 103, 20, 57, 70, 59, 56, 54, 48, 68, 36, 21, 96, 81, 106, 46, 83, 76, 45, 73, 31, 36, 19, 29, 116, 67, 78, 16, 1, 33, 46, 0, 61, 55, 13, 57, 116, 110, 41, 6, 11, 75, 39, 54, 29, 89, 48, 28, 65, 25, 78, 98, 26, 78, 58, 31, 22, 23, 42, 43, 132, 91, 28, 73, 96, 12, 67, 107, 54, 10, 11, 58, 23, 16, 0, 5, 22, 97, 61, 14, 79, 17, 75, 30, 115, 44, 93, 89, 84, 14, 28, 78, 53, 98, 33, 132, 82, 16, 17, 106, 70, 50, 127, 30, 3, 59, 75, 55, 69, 132, 0, 17, 44, 48, 62, 24, 92, 9, 108, 56, 53, 88, 53, 75, 114, 11, 101, 45, 50, 98, 45, 129, 57, 93, 98, 123, 55, 56, 76, 81, 71, 49, 66, 90, 60, 14, 75, 111, 2, 8, 40, 16, 35, 73, 132, 65, 57, 85, 46, 45, 104, 17, 13, 0, 46, 59, 37, 42, 103, 57, 83, 106, 55, 24, 82, 48, 75, 20, 6, 4, 46, 113, 13, 88, 102, 121, 32, 44, 7, 55, 7, 100, 47, 64, 102, 91, 35, 75, 36, 66, 118, 4, 28, 53, 108, 98, 22, 4, 130, 113, 132, 40, 113, 79, 73, 125, 21, 16, 20, 45, 7, 102, 41, 119, 68, 96, 76, 129, 59, 86, 113, 29, 30, 38, 47, 81, 0, 103, 63, 78, 89, 111, 73, 114, 129, 38, 38, 65, 58, 38, 15, 50, 1, 78, 62, 124, 20, 127, 80, 16, 90, 26, 25, 76, 21, 14, 2, 96, 77, 44, 67, 21, 110, 55, 89, 12, 59, 11, 110, 94, 71, 128, 88, 111, 116, 67, 79, 48, 9, 130, 71, 46, 30, 118, 19, 39, 3, 14, 71, 23, 126, 23, 79, 47, 51, 40, 12, 106, 93, 25, 17, 61, 105, 34, 111, 39, 71, 131, 31, 4, 111, 5, 46, 7, 123, 26, 58, 90, 54, 40, 10, 54, 78, 117, 77, 122, 123, 105, 29, 76, 102, 89, 57, 17, 28, 88, 105, 104, 109, 44, 38, 9, 3, 52, 29, 16, 47, 6, 21, 28, 60, 78, 37, 106, 85, 98, 74, 39, 65, 117, 15, 71, 31, 85, 60, 15, 79, 3, 14, 19, 19, 75, 89, 45, 86, 18, 35, 44, 114, 33, 14, 56, 87, 86, 44, 40, 37, 53, 12, 72, 124, 38, 39, 85, 126, 52, 24, 50, 110, 89, 0, 119, 23, 4, 42, 110, 1, 5, 11, 4, 128, 7, 5, 56, 80, 28, 19, 85, 15, 82, 13, 51, 16, 104, 3, 110, 79, 50, 72, 52, 27, 50, 79, 88, 53, 40, 102, 35, 87, 26, 12, 125, 121, 22, 19, 41, 80, 51, 108, 30, 32, 18, 23, 16, 122, 5, 44, 27, 111, 91, 98, 88, 54, 12, 61, 59, 15, 39, 7, 43, 35, 122, 60, 5, 47, 53, 45, 37, 115, 68, 78, 6, 80, 16, 3, 24, 63, 71, 16, 19, 33, 42, 42, 77, 73, 103, 129, 39, 57, 19, 96, 123, 126, 23, 3, 61, 59, 106, 115, 14, 119, 9, 76, 81, 128, 22, 11, 78, 68, 105, 42, 54, 86, 65, 102, 96, 125, 28, 38, 109, 1, 49, 105, 116, 26, 90, 80, 101]\n"
     ]
    }
   ],
   "source": [
    "# for feature in test_DogResnet:\n",
    "#     print(feature)\n",
    "print(DogResnet_predictions)"
   ]
  },
  {
   "cell_type": "markdown",
   "metadata": {},
   "source": [
    "### (IMPLEMENTATION) Test the Model\n",
    "\n",
    "Try out your model on the test dataset of dog images. Ensure that your test accuracy is greater than 60%."
   ]
  },
  {
   "cell_type": "code",
   "execution_count": 21,
   "metadata": {},
   "outputs": [
    {
     "name": "stdout",
     "output_type": "stream",
     "text": [
      "Test accuracy: 82.0574%\n"
     ]
    }
   ],
   "source": [
    "### TODO: Calculate classification accuracy on the test dataset.\n",
    "test_accuracy = 100*np.sum(np.array(DogResnet_predictions)==np.argmax(test_targets, axis=1))/len(DogResnet_predictions)\n",
    "print('Test accuracy: %.4f%%' % test_accuracy)"
   ]
  },
  {
   "cell_type": "markdown",
   "metadata": {},
   "source": [
    "### (IMPLEMENTATION) Predict Dog Breed with the Model\n",
    "\n",
    "Write a function that takes an image path as input and returns the dog breed (`Affenpinscher`, `Afghan_hound`, etc) that is predicted by your model.  \n",
    "\n",
    "Similar to the analogous function in Step 5, your function should have three steps:\n",
    "1. Extract the bottleneck features corresponding to the chosen CNN model.\n",
    "2. Supply the bottleneck features as input to the model to return the predicted vector.  Note that the argmax of this prediction vector gives the index of the predicted dog breed.\n",
    "3. Use the `dog_names` array defined in Step 0 of this notebook to return the corresponding breed.\n",
    "\n",
    "The functions to extract the bottleneck features can be found in `extract_bottleneck_features.py`, and they have been imported in an earlier code cell.  To obtain the bottleneck features corresponding to your chosen CNN architecture, you need to use the function\n",
    "\n",
    "    extract_{network}\n",
    "    \n",
    "where `{network}`, in the above filename, should be one of `VGG19`, `Resnet50`, `InceptionV3`, or `Xception`."
   ]
  },
  {
   "cell_type": "code",
   "execution_count": 27,
   "metadata": {},
   "outputs": [
    {
     "name": "stdout",
     "output_type": "stream",
     "text": [
      "/root/Downloads/dog-project-master/images/dogImages/train/095.Kuvasz/Kuvasz_06442.jpg\n",
      "project-master/images/dogImages/train/095.Kuvasz\n",
      "project-master/images/dogImages/train/095.Kuvasz\n",
      "project-master/images/dogImages/train/057.Dalmatian\n",
      "project-master/images/dogImages/train/088.Irish_water_spaniel\n"
     ]
    }
   ],
   "source": [
    "### TODO: Write a function that takes a path to an image as input\n",
    "### and returns the dog breed that is predicted by the model.\n",
    "# DogResnet_model.load_weights('saved_models/weights.best.DogResnet.hdf5')\n",
    "# DogResnet_predictions = [np.argmax(DogResnet_model.predict(np.expand_dims(feature, axis=0))) for feature in test_DogResnet]\n",
    "dog_files_short = train_files[:1]\n",
    "\n",
    "def Resnet_predict_breed(img_path):\n",
    "    # extract bottleneck features\n",
    "    bottleneck_feature = extract_Resnet50(path_to_tensor(img_path))\n",
    "    # obtain predicted vector\n",
    "    predicted_vector = DogResnet_model.predict(bottleneck_feature)\n",
    "    # return dog breed that is predicted by the model\n",
    "    #return np.argmax(predicted_vector) \n",
    "    return dog_names[np.argmax(predicted_vector)]\n",
    "#img = preprocess_input(path_to_tensor('/root/Downloads/dog-project-master/images/dogImages/train/095.Kuvasz/Kuvasz_06442.jpg'))\n",
    "#VGG16_predict_breed(img)\n",
    "for img_path in dog_files_short:\n",
    "    print(img_path)\n",
    "    img = preprocess_input(path_to_tensor(img_path))\n",
    "    print(Resnet_predict_breed(img_path))\n",
    "\n",
    "print (dog_names[94])\n",
    "print (dog_names[56])\n",
    "print (dog_names[87])"
   ]
  },
  {
   "cell_type": "markdown",
   "metadata": {},
   "source": [
    "---\n",
    "<a id='step6'></a>\n",
    "## Step 6: Write your Algorithm\n",
    "\n",
    "Write an algorithm that accepts a file path to an image and first determines whether the image contains a human, dog, or neither.  Then,\n",
    "- if a __dog__ is detected in the image, return the predicted breed.\n",
    "- if a __human__ is detected in the image, return the resembling dog breed.\n",
    "- if __neither__ is detected in the image, provide output that indicates an error.\n",
    "\n",
    "You are welcome to write your own functions for detecting humans and dogs in images, but feel free to use the `face_detector` and `dog_detector` functions developed above.  You are __required__ to use your CNN from Step 5 to predict dog breed.  \n",
    "\n",
    "Some sample output for our algorithm is provided below, but feel free to design your own user experience!\n",
    "\n",
    "![Sample Human Output](images/sample_human_output.png)\n",
    "\n",
    "\n",
    "### (IMPLEMENTATION) Write your Algorithm"
   ]
  },
  {
   "cell_type": "code",
   "execution_count": 52,
   "metadata": {},
   "outputs": [
    {
     "name": "stdout",
     "output_type": "stream",
     "text": [
      "Hello, Human you look like a ... Lowchen\n"
     ]
    },
    {
     "data": {
      "image/jpeg": "[encoded data removed]",
      "text/plain": [
       "<IPython.core.display.Image object>"
      ]
     },
     "metadata": {},
     "output_type": "display_data"
    },
    {
     "name": "stdout",
     "output_type": "stream",
     "text": [
      "Hello, Human you look like a ... English_toy_spaniel\n"
     ]
    },
    {
     "data": {
      "image/jpeg": "[encoded data removed]",
      "text/plain": [
       "<IPython.core.display.Image object>"
      ]
     },
     "metadata": {},
     "output_type": "display_data"
    }
   ],
   "source": [
    "### TODO: Write your algorithm.\n",
    "### Feel free to use as many code cells as needed.\n",
    "\n",
    "from IPython.display import Image, display\n",
    "human_files_short = human_files[:10]\n",
    "#dog_files_short = dog_files[:10]\n",
    "#human_files_short =human_files_short[:5]\n",
    "def imgp(img_path):\n",
    "    obj=\"\"\n",
    "    if dog_detector(img_path): obj=\"Dog\"     \n",
    "    if face_detector(img_path): obj=\"Human\"\n",
    "    \n",
    "    if obj !=\"\":\n",
    "        \n",
    "        prd=Resnet_predict_breed(img_path)\n",
    "        breed=prd.split('.')  \n",
    "        print(\"Hello, {0} you look like a ... {1}\".format(obj, breed[1]))\n",
    "        display(Image(filename= img_path))\n",
    "    else:\n",
    "        print(\"oops..!An error is occured.\")\n",
    "        \n",
    "    #print(\"Hello, {0} you look like {1}\".format(name, score))\n",
    "    \n",
    "for img_path in human_files_short[:2]:\n",
    "    \n",
    "    imgp(img_path)\n",
    "    #print(\"ok\")\n",
    "   "
   ]
  },
  {
   "cell_type": "markdown",
   "metadata": {},
   "source": [
    "---\n",
    "<a id='step7'></a>\n",
    "## Step 7: Test Your Algorithm\n",
    "\n",
    "In this section, you will take your new algorithm for a spin!  What kind of dog does the algorithm think that __you__ look like?  If you have a dog, does it predict your dog's breed accurately?  If you have a cat, does it mistakenly think that your cat is a dog?\n",
    "\n",
    "### (IMPLEMENTATION) Test Your Algorithm on Sample Images!\n",
    "\n",
    "Test your algorithm at least six images on your computer.  Feel free to use any images you like.  Use at least two human and two dog images.  \n",
    "\n",
    "__Question 6:__ Is the output better than you expected :) ?  Or worse :( ?  Provide at least three possible points of improvement for your algorithm.\n",
    "\n",
    "__Answer:__ "
   ]
  },
  {
   "cell_type": "code",
   "execution_count": 37,
   "metadata": {},
   "outputs": [
    {
     "name": "stdout",
     "output_type": "stream",
     "text": [
      "ok\n"
     ]
    }
   ],
   "source": [
    "print('ok')"
   ]
  },
  {
   "cell_type": "code",
   "execution_count": null,
   "metadata": {},
   "outputs": [],
   "source": []
  },
  {
   "cell_type": "code",
   "execution_count": 44,
   "metadata": {},
   "outputs": [
    {
     "name": "stdout",
     "output_type": "stream",
     "text": [
      "/home/ixi/Downloads/2\n"
     ]
    }
   ],
   "source": [
    "s='/home/ixi/Downloads/2.JPG'\n",
    "s1=s.split('.')\n",
    "print(s1[0])"
   ]
  },
  {
   "cell_type": "code",
   "execution_count": 51,
   "metadata": {},
   "outputs": [
    {
     "name": "stdout",
     "output_type": "stream",
     "text": [
      "An error is occured!\n"
     ]
    }
   ],
   "source": [
    "img_path='/home/ixi/Downloads/3.jpeg'\n",
    "imgp(img_path)"
   ]
  },
  {
   "cell_type": "code",
   "execution_count": 58,
   "metadata": {},
   "outputs": [
    {
     "name": "stdout",
     "output_type": "stream",
     "text": [
      "Hello, Human you look like a ... English_toy_spaniel\n"
     ]
    },
    {
     "data": {
      "image/jpeg": "[encoded data removed]",
      "text/plain": [
       "<IPython.core.display.Image object>"
      ]
     },
     "metadata": {},
     "output_type": "display_data"
    }
   ],
   "source": [
    "img_path='/home/ixi/Downloads/4.jpeg'\n",
    "imgp(img_path)"
   ]
  },
  {
   "cell_type": "code",
   "execution_count": 62,
   "metadata": {},
   "outputs": [
    {
     "name": "stdout",
     "output_type": "stream",
     "text": [
      "Hello, Human you look like a ... English_springer_spaniel\n"
     ]
    },
    {
     "data": {
      "image/jpeg": "[encoded data removed]",
      "text/plain": [
       "<IPython.core.display.Image object>"
      ]
     },
     "metadata": {},
     "output_type": "display_data"
    }
   ],
   "source": [
    "img_path='/home/ixi/Downloads/5.jpeg'\n",
    "imgp(img_path)"
   ]
  },
  {
   "cell_type": "code",
   "execution_count": null,
   "metadata": {},
   "outputs": [],
   "source": []
  },
  {
   "cell_type": "code",
   "execution_count": null,
   "metadata": {},
   "outputs": [],
   "source": []
  },
  {
   "cell_type": "code",
   "execution_count": 63,
   "metadata": {
    "scrolled": true
   },
   "outputs": [
    {
     "name": "stdout",
     "output_type": "stream",
     "text": [
      "Hello, Dog you look like a ... German_shepherd_dog\n"
     ]
    },
    {
     "data": {
      "image/jpeg": "[encoded data removed]",
      "text/plain": [
       "<IPython.core.display.Image object>"
      ]
     },
     "metadata": {},
     "output_type": "display_data"
    }
   ],
   "source": [
    "img_path='/home/ixi/Downloads/6.jpeg'\n",
    "imgp(img_path)"
   ]
  },
  {
   "cell_type": "code",
   "execution_count": 84,
   "metadata": {},
   "outputs": [
    {
     "name": "stdout",
     "output_type": "stream",
     "text": [
      "oops..!An error is occured.\n"
     ]
    }
   ],
   "source": [
    "img_path='/home/ixi/Downloads/Image-1 (1).jpg'\n",
    "imgp(img_path)"
   ]
  },
  {
   "cell_type": "code",
   "execution_count": null,
   "metadata": {},
   "outputs": [],
   "source": []
  },
  {
   "cell_type": "code",
   "execution_count": 64,
   "metadata": {},
   "outputs": [
    {
     "name": "stdout",
     "output_type": "stream",
     "text": [
      "Hello, Dog you look like a ... Chihuahua\n"
     ]
    },
    {
     "data": {
      "image/jpeg": "[encoded data removed]",
      "text/plain": [
       "<IPython.core.display.Image object>"
      ]
     },
     "metadata": {},
     "output_type": "display_data"
    }
   ],
   "source": [
    "img_path='/home/ixi/Downloads/7.jpeg'\n",
    "imgp(img_path)"
   ]
  },
  {
   "cell_type": "code",
   "execution_count": 65,
   "metadata": {},
   "outputs": [
    {
     "name": "stdout",
     "output_type": "stream",
     "text": [
      "Hello, Dog you look like a ... Doberman_pinscher\n"
     ]
    },
    {
     "data": {
      "image/jpeg": "[encoded data removed]",
      "text/plain": [
       "<IPython.core.display.Image object>"
      ]
     },
     "metadata": {},
     "output_type": "display_data"
    }
   ],
   "source": [
    "img_path='/home/ixi/Downloads/8.jpeg'\n",
    "imgp(img_path)"
   ]
  }
 ],
 "metadata": {
  "anaconda-cloud": {},
  "kernelspec": {
   "display_name": "Python 3",
   "language": "python",
   "name": "python3"
  },
  "language_info": {
   "codemirror_mode": {
    "name": "ipython",
    "version": 3
   },
   "file_extension": ".py",
   "mimetype": "text/x-python",
   "name": "python",
   "nbconvert_exporter": "python",
   "pygments_lexer": "ipython3",
   "version": "3.4.3"
  }
 },
 "nbformat": 4,
 "nbformat_minor": 1
}
